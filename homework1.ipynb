{
  "nbformat": 4,
  "nbformat_minor": 0,
  "metadata": {
    "colab": {
      "provenance": [],
      "toc_visible": true,
      "authorship_tag": "ABX9TyMOCvMPhxbzqzWOKAHX7/GZ",
      "include_colab_link": true
    },
    "kernelspec": {
      "name": "python3",
      "display_name": "Python 3"
    },
    "language_info": {
      "name": "python"
    }
  },
  "cells": [
    {
      "cell_type": "markdown",
      "metadata": {
        "id": "view-in-github",
        "colab_type": "text"
      },
      "source": [
        "<a href=\"https://colab.research.google.com/github/sunwoo7441/class2025Spring/blob/main/homework1.ipynb\" target=\"_parent\"><img src=\"https://colab.research.google.com/assets/colab-badge.svg\" alt=\"Open In Colab\"/></a>"
      ]
    },
    {
      "cell_type": "code",
      "execution_count": null,
      "metadata": {
        "id": "tgHIUpHliMPk",
        "colab": {
          "base_uri": "https://localhost:8080/"
        },
        "outputId": "deaf12d9-a1ad-45e6-e79b-1fee3bc54ca0"
      },
      "outputs": [
        {
          "output_type": "stream",
          "name": "stdout",
          "text": [
            "Collecting selenium\n",
            "  Downloading selenium-4.31.0-py3-none-any.whl.metadata (7.5 kB)\n",
            "Requirement already satisfied: urllib3<3,>=1.26 in /usr/local/lib/python3.11/dist-packages (from urllib3[socks]<3,>=1.26->selenium) (2.3.0)\n",
            "Collecting trio~=0.17 (from selenium)\n",
            "  Downloading trio-0.30.0-py3-none-any.whl.metadata (8.5 kB)\n",
            "Collecting trio-websocket~=0.9 (from selenium)\n",
            "  Downloading trio_websocket-0.12.2-py3-none-any.whl.metadata (5.1 kB)\n",
            "Requirement already satisfied: certifi>=2021.10.8 in /usr/local/lib/python3.11/dist-packages (from selenium) (2025.1.31)\n",
            "Requirement already satisfied: typing_extensions~=4.9 in /usr/local/lib/python3.11/dist-packages (from selenium) (4.13.2)\n",
            "Requirement already satisfied: websocket-client~=1.8 in /usr/local/lib/python3.11/dist-packages (from selenium) (1.8.0)\n",
            "Requirement already satisfied: attrs>=23.2.0 in /usr/local/lib/python3.11/dist-packages (from trio~=0.17->selenium) (25.3.0)\n",
            "Requirement already satisfied: sortedcontainers in /usr/local/lib/python3.11/dist-packages (from trio~=0.17->selenium) (2.4.0)\n",
            "Requirement already satisfied: idna in /usr/local/lib/python3.11/dist-packages (from trio~=0.17->selenium) (3.10)\n",
            "Collecting outcome (from trio~=0.17->selenium)\n",
            "  Downloading outcome-1.3.0.post0-py2.py3-none-any.whl.metadata (2.6 kB)\n",
            "Requirement already satisfied: sniffio>=1.3.0 in /usr/local/lib/python3.11/dist-packages (from trio~=0.17->selenium) (1.3.1)\n",
            "Collecting wsproto>=0.14 (from trio-websocket~=0.9->selenium)\n",
            "  Downloading wsproto-1.2.0-py3-none-any.whl.metadata (5.6 kB)\n",
            "Requirement already satisfied: pysocks!=1.5.7,<2.0,>=1.5.6 in /usr/local/lib/python3.11/dist-packages (from urllib3[socks]<3,>=1.26->selenium) (1.7.1)\n",
            "Requirement already satisfied: h11<1,>=0.9.0 in /usr/local/lib/python3.11/dist-packages (from wsproto>=0.14->trio-websocket~=0.9->selenium) (0.14.0)\n",
            "Downloading selenium-4.31.0-py3-none-any.whl (9.4 MB)\n",
            "\u001b[2K   \u001b[90m━━━━━━━━━━━━━━━━━━━━━━━━━━━━━━━━━━━━━━━━\u001b[0m \u001b[32m9.4/9.4 MB\u001b[0m \u001b[31m23.9 MB/s\u001b[0m eta \u001b[36m0:00:00\u001b[0m\n",
            "\u001b[?25hDownloading trio-0.30.0-py3-none-any.whl (499 kB)\n",
            "\u001b[2K   \u001b[90m━━━━━━━━━━━━━━━━━━━━━━━━━━━━━━━━━━━━━━━━\u001b[0m \u001b[32m499.2/499.2 kB\u001b[0m \u001b[31m11.4 MB/s\u001b[0m eta \u001b[36m0:00:00\u001b[0m\n",
            "\u001b[?25hDownloading trio_websocket-0.12.2-py3-none-any.whl (21 kB)\n",
            "Downloading outcome-1.3.0.post0-py2.py3-none-any.whl (10 kB)\n",
            "Downloading wsproto-1.2.0-py3-none-any.whl (24 kB)\n",
            "Installing collected packages: wsproto, outcome, trio, trio-websocket, selenium\n",
            "Successfully installed outcome-1.3.0.post0 selenium-4.31.0 trio-0.30.0 trio-websocket-0.12.2 wsproto-1.2.0\n"
          ]
        }
      ],
      "source": [
        "!pip install selenium"
      ]
    },
    {
      "cell_type": "code",
      "source": [
        "from selenium import webdriver\n",
        "from selenium.webdriver.common.by import By\n",
        "\n",
        "URL = \"https://product.kyobobook.co.kr/detail/S000000620181\"\n",
        "\n",
        "options = webdriver.ChromeOptions()\n",
        "options.add_argument(\" --headless\")\n",
        "options.add_argument(\" --disable-dev-shm-usage\")\n",
        "options.add_argument(\" --no-sandbox\")\n",
        "driver = webdriver.Chrome(options=options)\n",
        "driver.get(URL)\n",
        "print(driver.title)"
      ],
      "metadata": {
        "colab": {
          "base_uri": "https://localhost:8080/"
        },
        "id": "m2iTwyFGi8XQ",
        "outputId": "6858ae3a-3aa3-4754-8ed8-20a7f6ad3c85"
      },
      "execution_count": null,
      "outputs": [
        {
          "output_type": "stream",
          "name": "stdout",
          "text": [
            "데미안 | 헤르만 헤세 - 교보문고\n"
          ]
        }
      ]
    },
    {
      "cell_type": "code",
      "source": [
        "comment_texts = driver.find_elements(By.CLASS_NAME, 'comment_text')\n",
        "for tmp in comment_texts:\n",
        "    print(tmp.text)"
      ],
      "metadata": {
        "colab": {
          "base_uri": "https://localhost:8080/"
        },
        "id": "A2Pbu3x8k99-",
        "outputId": "5ca7c83b-7dec-4bec-d2c8-7fff913ffc37"
      },
      "execution_count": null,
      "outputs": [
        {
          "output_type": "stream",
          "name": "stdout",
          "text": [
            "현대소설로는 채워지지 않는 갈증이 있을때는\n",
            "고전 다시 읽기추천합니다\n",
            "십대에 읽던 것과는 다른 의미로 다가오네요\n",
            "과거로 돌아간다면 난 어느 시점으로 돌아가고 싶을까 철부지 20대 시절 그 빛나던 시절에 난 무엇을 했던가 생각없이 방황하던 그 시간들이 이제와 돌이켜보면 너무 안타깝다. 지금 이 시간도 언젠가 또 그렇게 느껴지겠지...\n",
            "따듯한 성장소설 , 물론 단순 성장소설이라기엔 내용이 훨씬 심오하지만 나 또한 내면적으로 좀 더 성장할 수 있었던..? 책\n",
            "구매추천합니다\n",
            "추천할게요\n",
            "데미안의 생각과 비슷하다\n",
            "잘 읽겠습니다.\n",
            "도서관에서 빌려보다가 다못읽어서 오늘 구입했네요.\n",
            "만족합니다.\n",
            "마음에 듭니다\n"
          ]
        }
      ]
    },
    {
      "cell_type": "code",
      "source": [
        "btn_page = driver.find_element(By.CLASS_NAME, 'btn_page.next')\n",
        "\n",
        "overlapping_element = driver.find_element(By.CSS_SELECTOR, '#contents > div.prod_detail_footer')\n",
        "driver.execute_script(\"arguments[0].remove()\", overlapping_element)"
      ],
      "metadata": {
        "id": "NbEy5cQflAy9"
      },
      "execution_count": null,
      "outputs": []
    },
    {
      "cell_type": "code",
      "source": [
        "from selenium import webdriver\n",
        "from selenium.webdriver.common.by import By\n",
        "from bs4 import BeautifulSoup\n",
        "import time\n",
        "\n",
        "# Define the URL\n",
        "URL = \"https://product.kyobobook.co.kr/detail/S000000620181\"\n",
        "\n",
        "# Configure Chrome options\n",
        "options = webdriver.ChromeOptions()\n",
        "options.add_argument(\" --headless\")\n",
        "options.add_argument(\" --disable-dev-shm-usage\")\n",
        "options.add_argument(\" --no-sandbox\")\n",
        "\n",
        "# Initialize the ChromeDriver\n",
        "driver = webdriver.Chrome(options=options)\n",
        "\n",
        "# Fetch the webpage\n",
        "driver.get(URL)\n",
        "print(driver.title)\n",
        "\n",
        "# Extract and print comment texts\n",
        "comment_texts = driver.find_elements(By.CLASS_NAME, 'comment_text')\n",
        "for tmp in comment_texts:\n",
        "    print(tmp.text)\n",
        "\n",
        "# Find the 'next' button and the overlapping element\n",
        "btn_page = driver.find_element(By.CLASS_NAME, 'btn_page.next')\n",
        "overlapping_element = driver.find_element(By.CSS_SELECTOR, '#contents > div.prod_detail_footer')\n",
        "\n",
        "# Remove the overlapping element\n",
        "driver.execute_script(\"arguments[0].remove()\", overlapping_element)\n",
        "\n",
        "# Wait for a short period to ensure the page is updated\n",
        "# This addresses the issue of the driver being unable to connect\n",
        "time.sleep(5)\n",
        "\n",
        "# Get the page source and parse it with BeautifulSoup\n",
        "html = driver.page_source\n",
        "soup = BeautifulSoup(html, 'html.parser')\n",
        "\n",
        "# Find the last page number\n",
        "last_page = soup.select_one(\"#ReviewList1 > div.tab_wrap.type_sm > div.tab_content > div > div.pagination > div > a:nth-child(10)\")\n",
        "\n",
        "# Check if the last page element is found\n",
        "# If not, it's likely the page structure has changed\n",
        "if last_page:\n",
        "    last_page_num = int(last_page.get_text())\n",
        "    print(\"Last page number:\", last_page_num)\n",
        "else:\n",
        "    print(\"Last page element not found. The page structure might have changed.\")\n",
        "\n",
        "# Close the driver when done\n",
        "# driver.quit()"
      ],
      "metadata": {
        "colab": {
          "base_uri": "https://localhost:8080/"
        },
        "id": "2OL0XdunyXyN",
        "outputId": "0cb0cb94-aaa1-4ea5-d7ee-0cc14d45608a"
      },
      "execution_count": null,
      "outputs": [
        {
          "output_type": "stream",
          "name": "stdout",
          "text": [
            "데미안 | 헤르만 헤세 - 교보문고\n",
            "현대소설로는 채워지지 않는 갈증이 있을때는\n",
            "고전 다시 읽기추천합니다\n",
            "십대에 읽던 것과는 다른 의미로 다가오네요\n",
            "과거로 돌아간다면 난 어느 시점으로 돌아가고 싶을까 철부지 20대 시절 그 빛나던 시절에 난 무엇을 했던가 생각없이 방황하던 그 시간들이 이제와 돌이켜보면 너무 안타깝다. 지금 이 시간도 언젠가 또 그렇게 느껴지겠지...\n",
            "따듯한 성장소설 , 물론 단순 성장소설이라기엔 내용이 훨씬 심오하지만 나 또한 내면적으로 좀 더 성장할 수 있었던..? 책\n",
            "구매추천합니다\n",
            "추천할게요\n",
            "데미안의 생각과 비슷하다\n",
            "잘 읽겠습니다.\n",
            "도서관에서 빌려보다가 다못읽어서 오늘 구입했네요.\n",
            "만족합니다.\n",
            "마음에 듭니다\n",
            "Last page number: 76\n"
          ]
        }
      ]
    },
    {
      "cell_type": "markdown",
      "source": [
        "리뷰 크롤링"
      ],
      "metadata": {
        "id": "jsgozecPyrCM"
      }
    },
    {
      "cell_type": "code",
      "source": [
        "\n",
        "\n",
        "for n in range(last_page_num-1):\n",
        "  btn_page.click()\n",
        "  time.sleep(1)\n",
        "  comment_texts = driver.find_elements(By.CLASS_NAME, 'comment_text')\n",
        "  for tmp in comment_texts:\n",
        "      print(tmp.text)\n",
        "      print('===============================')\n",
        "\n",
        "driver.quit()"
      ],
      "metadata": {
        "colab": {
          "base_uri": "https://localhost:8080/",
          "height": 1000
        },
        "id": "ngdeEvwLyusM",
        "outputId": "7115d169-98b2-43c1-997e-cd204a38507f"
      },
      "execution_count": null,
      "outputs": [
        {
          "output_type": "stream",
          "name": "stdout",
          "text": [
            "시련을 겪는 주인공이 점차 자아를 성립하는 과정을 치밀하게 보여주고 있어요. 잘 읽히지 않는 부분들이 더러 있어서 두 번은 읽으려고 합니다!\n",
            "===============================\n",
            "오랜만에 읽어도 깊이를 헤아리기 어려운 책.\n",
            "===============================\n",
            "40대에 다시 읽게 되는 고전\n",
            "===============================\n",
            "20대후반에 읽고 40대후반에 다시 읽어보니 받아들이는게 다르네요 철학적인 내용이 좋았어요\n",
            "===============================\n",
            "좋아요\n",
            "===============================\n",
            "고전이 달리 고전이겠습니까?\n",
            "===============================\n",
            "번역작가님의 필력이 너무 좋았습니다.. 아마 제가 본 책 중에 가장 좋지않았나..흡입력이 좋아서 계속 읽게되었습니다.\n",
            "===============================\n",
            "재미있고 의미있는 고전\n",
            "===============================\n",
            "유익하고 의미있는 고전\n",
            "===============================\n",
            "명작이고 몇번 반복해서 읽을것 같아요.\n",
            "===============================\n",
            "세계적인 명작의 장점은 처음에는 쉽게 손이 가지않더라도 한번 읽으면 나도 모르게 빠져드는 흡입력이 있다는 점입니다. 인간 심리에 대한 묘사가 너무 뛰어난 작품입니다.\n",
            "===============================\n",
            "꼭 읽어보고싶으수 구매했는데 재밌어용\n",
            "===============================\n",
            "거친 성장의 단면. 극도로 섬세하고 아름답다\n",
            "===============================\n",
            "유명한 책이라 읽어보고 싶어서 샀습니다. 생각보단 심오한 내용인것같아요. 저에게 마냥 쉽게 읽히지는 않았지만, 다 읽고나면 여운이 많이 남는 책인것 같습니다. 나에겐 누가 데미안같은 존재일까..누군가가 나를 데미안처럼 느낀적이 있을까? 생각을 많이 하게 되네요^^\n",
            "===============================\n",
            "집중해서 읽지 않으면 중간중간을 놓치지만, 나에게로 가는 길에 대해 성찰 할 수 있는 좋은 기회였습니다. 잘 읽었습니다.\n",
            "===============================\n",
            "유명한 데미안 드디어 사서 읽어봅니다\n",
            "===============================\n",
            "전형적인 성장소설.\n",
            "===============================\n",
            "읽고 또 읽어도 새로운 책\n",
            "===============================\n",
            "미니책으로만 가지고 있어서 구입했어요\n",
            "===============================\n",
            "데미안의 자아 철학적관점도 갖고있는 내용의 껍질을 깨고 알에서 탈출해라\n",
            "===============================\n",
            "고등학생 때는 읽으라고 1년을 줘도 못 읽었는데, 성인이 되고나서는 3일만에 읽었습니다. 이 책의 내용을 고등학생이었던 제가 완벽히 이해할 수 있었더라면 얼마나 좋았을까요. 그럼에도 드는 생각은, 지금이라도 읽어 참 다행인 것 같습니다. 꼭 읽어보세요!\n",
            "===============================\n",
            "이해하기 조금 어려운거 같아요\n",
            "완전 집중하고 꼼꼼히 읽어야 이해할 수 있을거같은 느낌\n",
            "===============================\n",
            "데미안이 워낙 유명해서 좀 늦게 본 편인데, 우선 너무 재밌고요.. 데미안이라는 인물이 대체 어떤 인물일까 읽는 내내 궁금해하면서 읽었고 주인공도 뭔가 공감가는 부분들이 많아서 재밌게 읽었습니다!\n",
            "===============================\n",
            "좀 어렵지만 좋은 책인 것 같아요\n",
            "===============================\n",
            "몇번 계속 읽어봐야 할거 같아요\n",
            "===============================\n",
            "내용이 상당히 재미있는 부분이 많이 있습니다.\n",
            "===============================\n",
            "이 책을 보기 전과 후로 내 인생이 바뀌었다. 나를 잡아주고 단단하게 세워준 고마운 책.\n",
            "===============================\n",
            "다양한 내용이 많아서 상당히 좋은 것 같습니다.\n",
            "===============================\n",
            "아이와 같이 읽어보려 구매했습니다.\n",
            "===============================\n",
            "친구가 빌려가고 안 줘서 다시 샀어요\n",
            "읽을 때 흡입력이 대단한 책이에요\n",
            "===============================\n",
            "잘 읽어보도록할게요!\n",
            "===============================\n",
            "아이가 학교에서 필요하다고하여 새벽배송 7시전 도착으로 주문했는데 9시쯤 배송됐네요ㅠ\n",
            "결국 책은 못 갖고 학교에 갔습니다.ㅠ\n",
            "===============================\n",
            "아직은 어려워요 나중에 다시 읽고 다양한 생각을 하고싶어요.\n",
            "===============================\n",
            "\n",
            "===============================\n",
            "내용이 궁금해서 구매하였습니다.\n",
            "===============================\n",
            "기대되는 작품 잘읽겠습니다.\n",
            "===============================\n",
            "너무 고전이라서 도전해볼게요 ~\n",
            "===============================\n",
            "10년에 한번씩 읽어봐야할 책\n",
            "===============================\n",
            "한번쯤은 꼭 읽어야 할 고전 아닐까요?\n",
            "===============================\n",
            "최공ㅇㅇㅇㅇㅇㅇㅇㅇㅇ예\n",
            "감사합니다\n",
            "===============================\n",
            "봐도 봐도 또 생각하게 하네요\n",
            "이번에는 민음사 출판사 책으로 보고 싶어서 다시 구매했어요\n",
            "===============================\n",
            "어릴 때부터 읽어본 책입니다\n",
            "===============================\n",
            "두고두고 꺼내 보면서 여러 조언과 위로를 얻을 수 있는 책.\n",
            "‘나’를 찾아가는 과정에서의 동반자임과 동시에 삶을 살아가며 생기는 여러 의문을 해결하는 피난처와 같은 느낌을 얻었습니다.\n",
            "===============================\n",
            "휴식이 필요해 이 책을 찾았다.\n",
            "학교, 직장에서 외부 자극으로 힘들 때\n",
            "내면으로 침잠하여 붕 뜬 마음을 가라앉혀보자.\n",
            "📍p.180. 그런데 그들은 왜 불안한 걸까? 자기 자신과 하나가 되지 못하기 때문에 불안한 거야. 그들은 한 번도 자신을 안 적이 없기 때문에 불안한 거야.\n",
            "\n",
            "2025. 2. 15. (토) 헤르만 헤세 - 데미안\n",
            "\n",
            "독일어로 Dämon 과 비슷하게 들릴 수 있는\n",
            "이름을 가진 주인공의 평생친구 “데미안, Demian”\n",
            "📍p.223. 데몬은 선이든 악이든 한 인간 속에 내재하는 초인적인 힘을 가리키기도 한다. 그러한 데미안이 마지막에 ‘그(Er)'라고 대문자로 표기됨으로써 신처럼 드높여져 있다.\n",
            "\n",
            "“과연 우리 사회에서 맹목적으로 믿는 것들이\n",
            "진정 나의 내면의 세계에서도 적용되는가?”\n",
            "제 1차 세계대전 시기에 발간된 책에서\n",
            "이러한 물음을 던지는 것은 큰 의미가 있어보인다.\n",
            "📍p.192. 유럽은 온 세계를 획득했는데, 그러느라 자신의 영혼을 잃어버리고 말았던 것이다.\n",
            "\n",
            "우리나라도 지금 같은 질문을 던져볼 때 아닐까?\n",
            "유튜브, 신문, 정치인, 주변인들이 주장하는 것들이 아니라 나의 내면에서 진정 어떤 것을 바라고 있는지 고민할 필요가 있는 것 같다.\n",
            "\n",
            "📍p.180. 지금 연대라며 저기 저러고 있는 것은 다만 패거리 짓기일 뿐이야. 사람들이 서로에게로 도피하고 있어. 서로가 두렵기 때문이야..\n",
            "\n",
            "직장인으로서 선배, 동료분들께서 해주는 이야기가\n",
            "내 가치관과 목표와 삶의 의도와 맞지 않을 수 있다.\n",
            "전쟁에 어쩔 수 없이 따르는 주인공처럼\n",
            "나도 내 인생에서 어쩔 수 없이 조직의 뜻을 따라야 할 때가 있지만 알고 하는 행동과 모르고 맹목적으로 따르는 행동은 근본적으로 다른 것이다.\n",
            "\n",
            "📍p.169. 누구나 관심 가져야 할 일은 아무래도 좋은 운명 하나가 아니라 자신의 운명을 찾아내는 것이며, 운명을 자신 속에서 완전히 그리고 굴절 없이 다 살아내는 일이었다. 다른 모든 것은 반쪽의 얼치기였다.\n",
            "===============================\n",
            "내가 원하는 걸 들여다보게 해 준 책\n",
            "===============================\n",
            "역시~ 고전은 어렵네요ㅜㅜ\n",
            "===============================\n",
            "재밌고 유익합니다. 추천합니다.\n",
            "===============================\n",
            "좋은 책이에요!~~\n",
            "===============================\n",
            "명작 좋아요 .. 꼭 읽어보고 마음의 양식이 되길\n",
            "===============================\n",
            "새는 알에서 나오려고 투쟁한다. 이 문장에 그냥 빠져들었다.\n",
            "===============================\n",
            "최고의 책이예요^^\n",
            "===============================\n",
            "이미 너무나도 유명한 책이라 말이 필요없죠\n",
            "===============================\n",
            "믿고 보는 민음사!! 디자인이 세련된 다른 출판사보다 번역에서 늘 우수하자는 생각이 많이 들었어요.\n",
            "===============================\n",
            "학창시절에 읽어던 기억이 새롭습니다.\n",
            "===============================\n",
            "다시 읽으면 어떤 느낌일지 정독해\n",
            "봅니다~\n",
            "===============================\n",
            "재밌습니다 여러번 읽고 싶어요\n",
            "===============================\n",
            "밑줄 치며 다시 읽는 고전\n",
            "===============================\n",
            "소설 안읽은지 오래인 성인인데 워낙 유명한 소설이라 궁금증에 사봤어요 생각보다 잘 읽힙니다\n",
            "===============================\n",
            "중딩아이가 읽고싶다기에 기쁜마음으로 구매 했어요\n",
            "그러나 ...\n",
            "===============================\n",
            "고전을 지금도 읽는 이유가 있다\n",
            "===============================\n",
            "헤르만헤세의 소설은 울림이 있어 좋아요!\n",
            "===============================\n",
            "데미안 가슴에 남는 책입니다~\n",
            "나를 찾는 인생의 여정~\n",
            "감사합니다.\n",
            "===============================\n",
            "명작을 아이와 다시 읽어보려고 샀어요\n",
            "청소년기에 적절한 책이라 생각해요.추천합니다.\n",
            "===============================\n",
            "좋아요\n",
            "===============================\n",
            "그때는 보이지 않던 것들이 보입니다\n",
            "===============================\n",
            "예전에 도서관에서 빌려읽었었는데 소장하고 싶어서 구매했습니다\n",
            "===============================\n",
            "고전문학을 소장하기위해 구입했습니다 가볍고 좋아요\n",
            "===============================\n",
            "좋아요\n",
            "===============================\n",
            "좋아요\n",
            "===============================\n",
            "헤르만 헤세라고 허세가 있진 않다\n",
            "===============================\n",
            "왜 남들이추천하는데는 이유가있습니다\n",
            "===============================\n",
            "다시 읽어보고 싶어서 구매합니다. 빠른 배송에 감사합니다.\n",
            "===============================\n",
            "나 자신을 찾아가고자 구매했어요\n",
            "===============================\n",
            "꼭 보고싶은 책입니다\n",
            "===============================\n",
            "재미있게 읽었어요\n",
            "===============================\n",
            "술술 잘 읽고있습니다\n",
            "===============================\n",
            "민음사 세계문학전집은 저렴한 가격에 비해 번역이 너무 잘되어 있어서 읽는데 편하고, 이미 오랜 세월 선별된 작품으로 늘 읽을 때마다 감동받고 있습니다.\n",
            "===============================\n",
            "오랜만에 다시 읽어보려고요~!\n",
            "===============================\n",
            "내용이 좋아서 전연령층이 봐도 좋습니다\n",
            "===============================\n",
            "역시 최고의 고전문학 맞네요\n",
            "===============================\n",
            "고등학생인데 데미안이라는 책이 현재 시점에 정말 도움이 많이 됐습니다.\n",
            "\n",
            "책을 읽는 재미에 빠지게 해준 책이에요.\n",
            "데미안을 읽고 여러 고전들을 읽기 시작했습니다~~\n",
            "===============================\n",
            "워낙 유명한 책을 이제서야 읽어보네요\n",
            "===============================\n",
            "죄악감을 표현하는 묘사들이 굉장히 생생했고 나의 10대 시절의 생각들과 굉장히 유사했다.\n",
            "===============================\n",
            "많은 도움이 되는 책입니다\n",
            "===============================\n",
            "이 가을에 천천히 읽으면 참으로 좋을!\n",
            "===============================\n",
            "많은분들이 추천해줘서 구매했는데 최고네요\n",
            "===============================\n",
            "추천으로 구매했어요\n",
            "===============================\n",
            "아주 아주 좋아요 강추합니다\n",
            "===============================\n",
            "좋은 작품 입니다 감사합니다\n",
            "===============================\n",
            "소장용으로 구매했습니다.\n",
            "===============================\n",
            "고전을 읽으면서 내면을 잘 파악하고 싶어요 잘 읽을게요\n",
            "===============================\n",
            "읽어볼 수 있는 기회가 됐네요..\n",
            "아직 아직 못 읽었지만..\n",
            "===============================\n",
            "데미안 정말 재밌습니다\n",
            "===============================\n",
            "내용이생각보다 어렵습니다\n",
            "===============================\n",
            "딸에게 선물합니다.\n",
            "===============================\n",
            "중딩 자녀가 읽고 싶다고 해서 구입합니다.\n",
            "===============================\n",
            "어렵게 느껴지지만 끝까지 읽어보겠습니다.\n",
            "===============================\n",
            "좋은 책입니다. 추천해요.\n",
            "===============================\n",
            "재미있어요 ~\n",
            "어려워서 지금 많은 일들을 이미 격어본 40대가 읽으면서 인생에 대하여 자신의 감정에 대하여 생각 깊이 하게 만드는 책인것 같아요\n",
            "===============================\n",
            "유명한 고전으로 읽어 보고 싶어서 구매했어요..\n",
            "===============================\n",
            "동생이 어려운 책 한번 읽어보겠다고 해서 사줬어요\n",
            "기대됩니다\n",
            "===============================\n",
            "자아를 찾는 길이 쉽지 않음을 공감하며 느낄 수 있는 책이었습니다. 100% 이해했다고는 못 하겠지만, 순간순간 나오는 생각들이 마음에 와닿아서 정말 재미있게 읽었습니다. 시간이 조금 지나 다시 한 번 더 읽어보고 싶습니다.\n",
            "===============================\n",
            "청소년의 필독서인 이유가 있습니다.\n",
            "===============================\n",
            "내면에 대해 심도있게 다룬 소설로 처음에는 어려웠으나 잔잔한(?) 후유증이 남을 정도로 생각을 곰씹게 되네요. 2~3번 더 읽고 싶은 소설이고, 후에 읽었을 때 그때는 어떻게 느낄지 궁금하게 되네요\n",
            "===============================\n",
            "재미있게 잘 읽었습니다\n",
            "===============================\n",
            "중학교다니는 아들을 위해구매합니다,고전읽기\n",
            "===============================\n",
            "책 내용이 좋습니다~\n",
            "===============================\n",
            "왜 이제서야 읽었을까요 많은 것을 생각하게 되었어요 소장할 가치가 충분하다고 생각됩니다\n",
            "===============================\n",
            "힘이되는 힐링책!!\n",
            "===============================\n",
            "다시 일어설 수 있는 힘이 되는 책!\n",
            "===============================\n",
            "어린 시절 어린이 버전으로 읽어 봤었는데 다시 구매 해 읽어봅니다 어떻게 다가올지 기대 됩니다\n",
            "===============================\n",
            "한번 더 읽어봐야될듯\n",
            "===============================\n",
            "가을에 읽으면 더 좋은 소설입니다.\n",
            "===============================\n",
            "가을에 읽으면 더 좋습니다.\n",
            "===============================\n",
            "어렵고 지루하지만 그만큼 뜻이\n",
            "있을거라 생각합니다\n",
            "===============================\n",
            "레전드 책 입니다\n",
            "===============================\n",
            "정말2재밌게봤습니다\n",
            "===============================\n",
            "책 잘받았습니다. 잘 읽을게요\n",
            "===============================\n",
            "\n",
            "===============================\n",
            "데미안을 소장하고 싶어서 구매했습니다. 언제 읽어도 좋은 책입니다\n",
            "===============================\n",
            "언제 누가 읽어도 좋은 명작!\n",
            "===============================\n",
            "책이 조금 어렵긴한데 좋아요\n",
            "===============================\n",
            "잘 읽었습니다 감사합니다\n",
            "===============================\n",
            "아주 좋고 유익합니다.\n",
            "===============================\n",
            "레전드 클라식이니까 믿고 구매했습니다\n",
            "===============================\n",
            "십대때 읽고 다시 읽어보니 느낌이 사뭇 다르지만...영ㅈ원한 고전.\n",
            "===============================\n",
            "재미있고 흥미로워요\n",
            "===============================\n",
            "학교 방학숙제 교재로 구매했어요\n",
            "===============================\n",
            "가장 유명한 성장문학\n",
            "헤세의 다른 고전도 읽어보고 싶어지네요\n",
            "===============================\n",
            "추천합니다 고전소설도 재밌네요\n",
            "===============================\n",
            "재미있고 흥미로워요\n",
            "===============================\n",
            "명작 다시 읽기 중입니다.\n",
            "===============================\n",
            "추천 받아서 구매했습니다\n",
            "잘 읽을게요\n",
            "===============================\n",
            "너무너무너무 재밌어요진심 ㅠㅠ\n",
            "===============================\n",
            "학교과제로 구매했어요\n",
            "===============================\n",
            "독서 감상문 쓰기 위해 고전소설 구매했어요\n",
            "===============================\n",
            "자꾸 자꾸 보게 될 책! 편안하게 잘 읽었어요.\n",
            "===============================\n",
            "유익한 책이에요~!\n",
            "===============================\n",
            "출판사별로 다른지 민음사거도 삽니다.\n",
            "===============================\n",
            "두아이 모두 필독서라고 하네요\n",
            "===============================\n"
          ]
        },
        {
          "output_type": "error",
          "ename": "KeyboardInterrupt",
          "evalue": "",
          "traceback": [
            "\u001b[0;31m---------------------------------------------------------------------------\u001b[0m",
            "\u001b[0;31mKeyboardInterrupt\u001b[0m                         Traceback (most recent call last)",
            "\u001b[0;32m<ipython-input-28-9437ff15ce2f>\u001b[0m in \u001b[0;36m<cell line: 0>\u001b[0;34m()\u001b[0m\n\u001b[1;32m      1\u001b[0m \u001b[0;32mfor\u001b[0m \u001b[0mn\u001b[0m \u001b[0;32min\u001b[0m \u001b[0mrange\u001b[0m\u001b[0;34m(\u001b[0m\u001b[0mlast_page_num\u001b[0m\u001b[0;34m-\u001b[0m\u001b[0;36m1\u001b[0m\u001b[0;34m)\u001b[0m\u001b[0;34m:\u001b[0m\u001b[0;34m\u001b[0m\u001b[0;34m\u001b[0m\u001b[0m\n\u001b[1;32m      2\u001b[0m   \u001b[0mbtn_page\u001b[0m\u001b[0;34m.\u001b[0m\u001b[0mclick\u001b[0m\u001b[0;34m(\u001b[0m\u001b[0;34m)\u001b[0m\u001b[0;34m\u001b[0m\u001b[0;34m\u001b[0m\u001b[0m\n\u001b[0;32m----> 3\u001b[0;31m   \u001b[0mtime\u001b[0m\u001b[0;34m.\u001b[0m\u001b[0msleep\u001b[0m\u001b[0;34m(\u001b[0m\u001b[0;36m1\u001b[0m\u001b[0;34m)\u001b[0m\u001b[0;34m\u001b[0m\u001b[0;34m\u001b[0m\u001b[0m\n\u001b[0m\u001b[1;32m      4\u001b[0m   \u001b[0mcomment_texts\u001b[0m \u001b[0;34m=\u001b[0m \u001b[0mdriver\u001b[0m\u001b[0;34m.\u001b[0m\u001b[0mfind_elements\u001b[0m\u001b[0;34m(\u001b[0m\u001b[0mBy\u001b[0m\u001b[0;34m.\u001b[0m\u001b[0mCLASS_NAME\u001b[0m\u001b[0;34m,\u001b[0m \u001b[0;34m'comment_text'\u001b[0m\u001b[0;34m)\u001b[0m\u001b[0;34m\u001b[0m\u001b[0;34m\u001b[0m\u001b[0m\n\u001b[1;32m      5\u001b[0m   \u001b[0;32mfor\u001b[0m \u001b[0mtmp\u001b[0m \u001b[0;32min\u001b[0m \u001b[0mcomment_texts\u001b[0m\u001b[0;34m:\u001b[0m\u001b[0;34m\u001b[0m\u001b[0;34m\u001b[0m\u001b[0m\n",
            "\u001b[0;31mKeyboardInterrupt\u001b[0m: "
          ]
        }
      ]
    },
    {
      "cell_type": "code",
      "source": [
        "from selenium import webdriver\n",
        "from selenium.webdriver.common.by import By\n",
        "from bs4 import BeautifulSoup\n",
        "import time\n",
        "\n",
        "# Define the URL\n",
        "URL = \"https://product.kyobobook.co.kr/detail/S000000620181\"\n",
        "\n",
        "# Configure Chrome options\n",
        "options = webdriver.ChromeOptions()\n",
        "options.add_argument(\" --headless\")\n",
        "options.add_argument(\" --disable-dev-shm-usage\")\n",
        "options.add_argument(\" --no-sandbox\")\n",
        "\n",
        "# Initialize the ChromeDriver\n",
        "driver = webdriver.Chrome(options=options)\n",
        "\n",
        "# Fetch the webpage\n",
        "driver.get(URL)\n",
        "print(driver.title)\n",
        "\n",
        "# Extract and print comment texts\n",
        "comment_texts = driver.find_elements(By.CLASS_NAME, 'comment_text')\n",
        "for tmp in comment_texts:\n",
        "    print(tmp.text)\n",
        "\n",
        "# Find the 'next' button and the overlapping element\n",
        "btn_page = driver.find_element(By.CLASS_NAME, 'btn_page.next')\n",
        "overlapping_element = driver.find_element(By.CSS_SELECTOR, '#contents > div.prod_detail_footer')\n",
        "\n",
        "# Remove the overlapping element\n",
        "driver.execute_script(\"arguments[0].remove()\", overlapping_element)\n",
        "\n",
        "# Wait for a short period to ensure the page is updated\n",
        "# This addresses the issue of the driver being unable to connect\n",
        "time.sleep(5)\n",
        "\n",
        "# Get the page source and parse it with BeautifulSoup\n",
        "html = driver.page_source\n",
        "soup = BeautifulSoup(html, 'html.parser')\n",
        "\n",
        "# Find the last page number\n",
        "last_page = soup.select_one(\"#ReviewList1 > div.tab_wrap.type_sm > div.tab_content > div > div.pagination > div > a:nth-child(10)\")\n",
        "\n",
        "# Check if the last page element is found\n",
        "# If not, it's likely the page structure has changed\n",
        "if last_page:\n",
        "    last_page_num = int(last_page.get_text())\n",
        "    print(\"Last page number:\", last_page_num)\n",
        "else:\n",
        "    print(\"Last page element not found. The page structure might have changed.\")\n",
        "\n",
        "import re\n",
        "\n",
        "\n",
        "cnt_like = 0\n",
        "# --- The code from cell 25 should be moved here ---\n",
        "for n in range(last_page_num - 1):\n",
        "    btn_page.click()\n",
        "    time.sleep(1)\n",
        "    comment_texts = driver.find_elements(By.CLASS_NAME, 'comment_text')\n",
        "\n",
        "    # Iterate through each comment text element\n",
        "    for tmp in comment_texts:\n",
        "        text = tmp.text  # Assign the text of the comment to the variable 'text'\n",
        "        match = re.search(r'좋아', text)  # Search within the text of the comment\n",
        "\n",
        "        if match:\n",
        "           cnt_like += cnt_like\n",
        "           # print(\"매칭된 문자열:\", match.group())  # Print the matched string if found\n",
        "           # print(tmp.text)  # Print the entire comment text\n",
        "\n",
        "\n",
        "print(f\"Total count of '좋아': {cnt_like}\") # Print outside the loop for the total count\n",
        "\n",
        "all_numbers = []\n",
        "for tmp in comment_texts:\n",
        "    numbers = re.findall(r'\\d+', tmp.text)  # Extract numbers from each comment text\n",
        "    all_numbers.extend(numbers)  # Add the extracted numbers to the overall list\n",
        "\n",
        "print(all_numbers)\n",
        "\n",
        "# Close the driver when done\n",
        "driver.quit()\n"
      ],
      "metadata": {
        "colab": {
          "base_uri": "https://localhost:8080/"
        },
        "id": "bfeHxbwW3ASI",
        "outputId": "8909409c-71f6-4e6b-e004-eb56e4cf033b"
      },
      "execution_count": null,
      "outputs": [
        {
          "output_type": "stream",
          "name": "stdout",
          "text": [
            "데미안 | 헤르만 헤세 - 교보문고\n",
            "현대소설로는 채워지지 않는 갈증이 있을때는\n",
            "고전 다시 읽기추천합니다\n",
            "십대에 읽던 것과는 다른 의미로 다가오네요\n",
            "과거로 돌아간다면 난 어느 시점으로 돌아가고 싶을까 철부지 20대 시절 그 빛나던 시절에 난 무엇을 했던가 생각없이 방황하던 그 시간들이 이제와 돌이켜보면 너무 안타깝다. 지금 이 시간도 언젠가 또 그렇게 느껴지겠지...\n",
            "따듯한 성장소설 , 물론 단순 성장소설이라기엔 내용이 훨씬 심오하지만 나 또한 내면적으로 좀 더 성장할 수 있었던..? 책\n",
            "구매추천합니다\n",
            "추천할게요\n",
            "데미안의 생각과 비슷하다\n",
            "잘 읽겠습니다.\n",
            "도서관에서 빌려보다가 다못읽어서 오늘 구입했네요.\n",
            "만족합니다.\n",
            "마음에 듭니다\n",
            "Last page number: 76\n"
          ]
        }
      ]
    },
    {
      "cell_type": "markdown",
      "source": [
        "토큰처리관련"
      ],
      "metadata": {
        "id": "HSwZ1rn40O_8"
      }
    },
    {
      "cell_type": "code",
      "source": [
        "documents = ['Hello, how are you!',\n",
        "             'Win money, win from home.',\n",
        "             'Call me now.',\n",
        "             'Hello, Call me to say how you are?']\n",
        "\n",
        "# 대문자를 소문자로 변환\n",
        "lower_case_documents = []\n",
        "for i in documents:\n",
        "    lower_case_documents.append(i.lower())\n",
        "print(lower_case_documents)"
      ],
      "metadata": {
        "id": "R0vGrXVH0TjT",
        "outputId": "27f595e5-8a27-4960-ba58-b3d39d1a89e5",
        "colab": {
          "base_uri": "https://localhost:8080/"
        }
      },
      "execution_count": 1,
      "outputs": [
        {
          "output_type": "stream",
          "name": "stdout",
          "text": [
            "['hello, how are you!', 'win money, win from home.', 'call me now.', 'hello, call me to say how you are?']\n"
          ]
        }
      ]
    },
    {
      "cell_type": "code",
      "source": [
        "# 구두점 삭제\n",
        "sans_punctuation_documents = []\n",
        "# 구두점이 제거된 문서를 저장할 빈 리스트를 생성\n",
        "import string\n",
        "# 문자열 처리에 필요한 string 모듈을 가져옴\n",
        "\n",
        "for i in lower_case_documents:  # lower_case_documents 리스트의 각 문서에 대해 반복\n",
        "    sans_punctuation_documents.append(''.join(c for c in i if c not in string.punctuation))\n",
        "\n",
        "\n",
        "print(sans_punctuation_documents)  # 구두점이 제거된 문서들을 출력"
      ],
      "metadata": {
        "id": "Jhwyy_Oq0Z-D",
        "outputId": "fac50fdd-e25e-4acf-9cc9-82f53b53d074",
        "colab": {
          "base_uri": "https://localhost:8080/"
        }
      },
      "execution_count": 3,
      "outputs": [
        {
          "output_type": "stream",
          "name": "stdout",
          "text": [
            "['hello how are you', 'win money win from home', 'call me now', 'hello call me to say how you are']\n"
          ]
        }
      ]
    },
    {
      "cell_type": "code",
      "source": [
        "# 전처리, 단어별로 분리\n",
        "preprocessed_documents = []\n",
        "for i in sans_punctuation_documents:\n",
        "    preprocessed_documents.append(i.split(' ')) # 공백 기준 분리\n",
        "print(preprocessed_documents)"
      ],
      "metadata": {
        "id": "264k1wQL0oGi",
        "outputId": "f15cf6a9-b4b0-49a4-9692-41a1c830a084",
        "colab": {
          "base_uri": "https://localhost:8080/"
        }
      },
      "execution_count": 4,
      "outputs": [
        {
          "output_type": "stream",
          "name": "stdout",
          "text": [
            "[['hello', 'how', 'are', 'you'], ['win', 'money', 'win', 'from', 'home'], ['call', 'me', 'now'], ['hello', 'call', 'me', 'to', 'say', 'how', 'you', 'are']]\n"
          ]
        }
      ]
    },
    {
      "cell_type": "code",
      "source": [
        "# Bag of Words\n",
        "frequency_list = []\n",
        "import pprint\n",
        "from collections import Counter\n",
        "\n",
        "for i in preprocessed_documents:\n",
        "    frequency_list.append(Counter(i))\n",
        "\n",
        "pprint.pprint(frequency_list)"
      ],
      "metadata": {
        "id": "jaDjEgn20vO6",
        "outputId": "1e52fe58-59c7-4082-e381-f4c22c40a1b4",
        "colab": {
          "base_uri": "https://localhost:8080/"
        }
      },
      "execution_count": 5,
      "outputs": [
        {
          "output_type": "stream",
          "name": "stdout",
          "text": [
            "[Counter({'hello': 1, 'how': 1, 'are': 1, 'you': 1}),\n",
            " Counter({'win': 2, 'money': 1, 'from': 1, 'home': 1}),\n",
            " Counter({'call': 1, 'me': 1, 'now': 1}),\n",
            " Counter({'hello': 1,\n",
            "          'call': 1,\n",
            "          'me': 1,\n",
            "          'to': 1,\n",
            "          'say': 1,\n",
            "          'how': 1,\n",
            "          'you': 1,\n",
            "          'are': 1})]\n"
          ]
        }
      ]
    }
  ]
}